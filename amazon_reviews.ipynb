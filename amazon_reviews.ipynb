{
 "cells": [
  {
   "cell_type": "code",
   "execution_count": 1,
   "metadata": {},
   "outputs": [],
   "source": [
    "from bs4 import BeautifulSoup as bs\n",
    "import requests\n",
    "from urllib.request import urlopen as uReq \n",
    "import datetime\n",
    "import pandas as pd\n",
    "import json\n",
    "import math\n",
    "import time\n",
    "import os\n",
    "#import logging\n",
    "#import random"
   ]
  },
  {
   "cell_type": "code",
   "execution_count": 18,
   "metadata": {},
   "outputs": [],
   "source": [
    "product_ids = []\n",
    "f = open('list_all')\n",
    "for i in f:\n",
    "    product_ids.append(i.strip())"
   ]
  },
  {
   "cell_type": "code",
   "execution_count": 5,
   "metadata": {},
   "outputs": [],
   "source": [
    "headers = {\n",
    "    'authority': 'www.amazon.com',\n",
    "    'cache-control': 'max-age=0',\n",
    "    'rtt': '400',\n",
    "    'downlink': '1.45',\n",
    "    'ect': '3g',\n",
    "    'upgrade-insecure-requests': '1',\n",
    "    'user-agent': 'Mozilla/5.0 (Windows NT 10.0; Win64; x64) AppleWebKit/537.36 (KHTML, like Gecko) Chrome/87.0.4280.141 Safari/537.36',\n",
    "    'accept': 'text/html,application/xhtml+xml,application/xml;q=0.9,image/avif,image/webp,image/apng,*/*;q=0.8,application/signed-exchange;v=b3;q=0.9',\n",
    "    'sec-fetch-site': 'same-origin',\n",
    "    'sec-fetch-mode': 'navigate',\n",
    "    'sec-fetch-user': '?1',\n",
    "    'sec-fetch-dest': 'document',\n",
    "    'accept-language': 'en,zh-CN;q=0.9,zh;q=0.8',\n",
    "    'cookie': 'session-id=138-7828792-9054417; session-id-time=2082787201l; ubid-main=132-7497391-3364111; lc-main=en_US; at-main=Atza^|IwEBIGOMGdG-q5DtKPcrfTohUYTNBqxwshnGZO3f5ED9FxFbu6608XuXDEo1longOgpcphN_ettJDxLRAOGrpuH1AIZoiRMeujM2_eT0fyIflcdrseiEXvzsIZKzN0GEKabiy7Ubnn9ic4Gc7o5TerywdL_ixKfUSt200a8aLpzzJTKdi8tM__CDGgBTTX2DUyayGs-rain8SZIUkvcFAOwp05IFZpIj-S5yuPq_Uwf-kGuzPMSrKwzxP7JPjTjbOReS6TtYpkrIR-dVCfIqa5co0xwL7mwC0j-Qjp55A_rzxgXn5R_3zfY0xDIQ08ZB87gBrgwWWh8jN3A4QmHFpjToIu1UP3nFrBsL7czJF9JluLMdi5js4S_-DGhs793wL_DNB9CzVhWbTDALyiQF3-ZU_BHh; sess-at-main=^\\\\^7HA0qFRhT/k66DsIXxMlwMBmG/NeRYnvY8ctAa9TySE=^\\\\^; sst-main=Sst1^|PQHHD0bSOdCRONY5gD3fR8tkC9MFAzPtoqrO28r7cpf3tlQvFR-AEyaVWSf4O7xcaXNYPmT3qoXf8i8xlhIWwVXkd2XJwOLH6imoUCsbrtMCUkcReN0LRUBvWbV5aAaLqLG_mWKUEjX0DY83AFrw1HI4G4kqBdwxt_DW1NCjugUCcHofDgj5khRA5p6nDOaAfc86RQiGm5MpSztBQ0WO-qNeU4DhBg2kw-kDbVCbzlK0O9m4mS2eSRWpF-qErKyRm2r1kQFH16Bg3wn0PqK0gli9e5QHUxe-5Jxbfz1qcFcS16vGWFIN83MdqBhEY6IcU50cX5Tk1kb_QZWEG3800p8jYQ; i18n-prefs=USD; x-main=^\\\\^IXTSFwjYOiRMdDimJmD1oKutMwXIK2sF4mKbpZTdrjQV^@I4tf^@hBS0HSY1Q^@TqtD^\\\\^; session-token=^\\\\^/nPO8Wohk/FnQ91upK1PxcpBYKsJLO6iQ4vHpPyRRZh3YpsRK3rFlBo3UF563C3iQwydXDzhcDbZ5buPMNMTGUxuQy6NcuvyNDjofYZkBJLAHDhnHpfO92AFq9z4Wz5bJKWl4KU8LllGwaxawFX8wk0iYTjy3T+6AIwF01R171+oz+9yuZrNqZbOR2DEUZzrw6fW9VmH8Arwi8iAETUMWg==^\\\\^; skin=noskin; csm-hit=adb:adblk_no^&t:1613032783198^&tb:s-1PY5XBHZDW9RP3J1BP26^|1613032782736',\n",
    "}\n"
   ]
  },
  {
   "cell_type": "code",
   "execution_count": 19,
   "metadata": {},
   "outputs": [],
   "source": [
    "#product_ids = pd.read_csv('product_id_list.csv')\n",
    "#product_ids = []\n",
    "#f = open('list_all')\n",
    "#for i in f:\n",
    "    #product_ids.append(i.strip())\n",
    "unscraped_id = list()\n",
    "#for product_id in product_ids['0']:\n",
    "for product_id in product_ids:\n",
    "#for product_id in unscraped:\n",
    "    amazon_all_review_lst = list()\n",
    "    link = f'https://amazon.com/product-reviews/{product_id}/ref=cm_cr_arp_d_paging_btm_1?ie=UTF8&reviewerType=all_reviews&showViewpoints=1&sortBy=helpful&pageNumber=1'\n",
    "    try:\n",
    "        page = requests.get(link,headers=headers)\n",
    "        soup = bs(page.content,'html.parser')\n",
    "        reviews_n = soup.find('div',{'data-hook':'cr-filter-info-review-rating-count'})\n",
    "        for i in range(3):\n",
    "            if reviews_n == None:\n",
    "                reviews_n = soup.find('div',{'data-hook':'cr-filter-info-review-rating-count'})\n",
    "        if reviews_n == None:\n",
    "            unscraped_id.append(product_id)\n",
    "            continue\n",
    "        reviews_number = reviews_n.get_text().strip().split('|')[1].replace('global reviews','').strip().replace(',','')\n",
    "        max_pges = math.floor(int(reviews_number)/10)\n",
    "        print(f'The number of pages to scrap for product {product_id} are {max_pges}')\n",
    "    except Exception:\n",
    "        continue\n",
    "    #if max_pges < 3000:\n",
    "        #continue\n",
    "    for k in range(1,max_pges):\n",
    "        #link = f'https://www.amazon.com/Apple-iPhone-Locked-Carrier-Subscription/product-reviews/B00006IF67/ref=cm_cr_arp_d_paging_btm_next_2?ie=UTF8&reviewerType=all_reviews&pageNumber={k}'\n",
    "        link = f'https://amazon.com/product-reviews/{product_id}/ref=cm_cr_arp_d_paging_btm_1?ie=UTF8&reviewerType=all_reviews&showViewpoints=1&sortBy=helpful&pageNumber={k}'\n",
    "        try:\n",
    "            page = requests.get(link,headers=headers)\n",
    "        except Exception:\n",
    "            continue\n",
    "        soup = bs(page.content,'html.parser')\n",
    "        reviews = soup.findAll('div',{'data-hook': 'review'})\n",
    "        print(f'Scraping for product {product_id} at page {k}')\n",
    "        for review in reviews:\n",
    "            try:\n",
    "                rating = review.find(attrs={'data-hook': 'review-star-rating'}).attrs['class'][2].split('-')[-1].strip()\n",
    "                body = review.find(attrs={'data-hook': 'review-body'}).text.strip()\n",
    "                title = review.find(attrs={'data-hook': 'review-title'}).text.strip()\n",
    "                author_url = review.find(attrs={'data-hook': 'genome-widget'}).find('a', href=True)\n",
    "                author = review.find(attrs={'data-hook': 'genome-widget'}).find('span', 'a-profile-name').text.strip()\n",
    "                review_url = review.find(attrs={'data-hook': 'review-title'}).attrs['href']\n",
    "                review_date = review.find(attrs={'data-hook': 'review-date'}).text.strip()\n",
    "                verified = review.find(attrs={'data-hook': 'avp-badge'}) or ''\n",
    "                types = review.find(attrs={'data-hook': 'format-strip'}) or ''\n",
    "                if types != '':\n",
    "                    types = types.text.strip()\n",
    "                if verified != '':\n",
    "                    verified = verified.text.strip()\n",
    "                if author_url:\n",
    "                    author_url = author_url['href'].strip()\n",
    "                try:\n",
    "                    helpful = review.find(attrs={'data-hook': 'helpful-vote-statement'}).text.strip()\n",
    "                    helpful = helpful.strip().split(' ')[0]\n",
    "                except:\n",
    "                    helpful = ''\n",
    "            except Exception:\n",
    "                continue\n",
    "        \n",
    "            amazon_all_review_lst.append({'title': title,\n",
    "                                'rating': rating,\n",
    "                                'verified':verified,\n",
    "                                'types':types,\n",
    "                                'body': body,\n",
    "                                'product_id':product_id,\n",
    "                                'author_url': author_url,\n",
    "                                'author':author,\n",
    "                                'review_url': review_url,\n",
    "                                'review_date': review_date,\n",
    "                                'helpful':helpful,\n",
    "                               }) \n",
    "    #The file where you store each product_id reviews. You add put them in a specific folders called for example 'reviews'\n",
    "    #To do so, just add f'./reviews/{product_id}.json'\n",
    "    with open(f'{product_id}.json','w') as jsonfile:\n",
    "        json.dump(amazon_all_review_lst,jsonfile, indent=4, sort_keys=True, default=str)"
   ]
  },
  {
   "cell_type": "code",
   "execution_count": 21,
   "metadata": {},
   "outputs": [
    {
     "data": {
      "text/plain": [
       "0"
      ]
     },
     "execution_count": 21,
     "metadata": {},
     "output_type": "execute_result"
    }
   ],
   "source": []
  },
  {
   "cell_type": "code",
   "execution_count": null,
   "metadata": {},
   "outputs": [],
   "source": []
  }
 ],
 "metadata": {
  "kernelspec": {
   "display_name": "Python 3",
   "language": "python",
   "name": "python3"
  },
  "language_info": {
   "codemirror_mode": {
    "name": "ipython",
    "version": 3
   },
   "file_extension": ".py",
   "mimetype": "text/x-python",
   "name": "python",
   "nbconvert_exporter": "python",
   "pygments_lexer": "ipython3",
   "version": "3.7.3"
  }
 },
 "nbformat": 4,
 "nbformat_minor": 2
}
